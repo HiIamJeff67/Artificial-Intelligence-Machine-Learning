{
  "cells": [
    {
      "cell_type": "code",
      "execution_count": null,
      "metadata": {
        "colab": {
          "base_uri": "https://localhost:8080/"
        },
        "id": "iJBXp6ZlYXhw",
        "outputId": "49559bce-0ab4-4a33-ae1c-502627bfd958"
      },
      "outputs": [
        {
          "name": "stdout",
          "output_type": "stream",
          "text": [
            "h1 (錯位數) 解步驟數: 8, 耗時: 0.0004 秒\n",
            "h2 (曼哈頓距離) 解步驟數: 8, 耗時: 0.0002 秒\n"
          ]
        }
      ],
      "source": [
        "import heapq\n",
        "import time\n",
        "import numpy as np\n",
        "\n",
        "class Puzzle:\n",
        "    def __init__(self, board, goal):\n",
        "        self.board = board\n",
        "        self.goal = goal\n",
        "        self.size = len(board)\n",
        "        self.goal_pos = {goal[i][j]: (i, j) for i in range(self.size) for j in range(self.size)}\n",
        "\n",
        "    def get_neighbors(self, state):\n",
        "        size = self.size\n",
        "        x, y = [(i, row.index(0)) for i, row in enumerate(state) if 0 in row][0]\n",
        "        moves = []\n",
        "        for dx, dy in [(-1, 0), (1, 0), (0, -1), (0, 1)]:\n",
        "            nx, ny = x + dx, y + dy\n",
        "            if 0 <= nx < size and 0 <= ny < size:\n",
        "                new_state = [list(row) for row in state]\n",
        "                new_state[x][y], new_state[nx][ny] = new_state[nx][ny], new_state[x][y]\n",
        "                moves.append(tuple(map(tuple, new_state)))\n",
        "        return moves\n",
        "\n",
        "    def heuristic_h1(self, state):\n",
        "        return sum(1 for i in range(self.size) for j in range(self.size)\n",
        "                   if state[i][j] and state[i][j] != self.goal[i][j])\n",
        "\n",
        "    def heuristic_h2(self, state):\n",
        "        return sum(abs(i - self.goal_pos[val][0]) + abs(j - self.goal_pos[val][1])\n",
        "                   for i, row in enumerate(state) for j, val in enumerate(row) if val)\n",
        "\n",
        "    def solve_a_star(self, heuristic):\n",
        "        start_state = tuple(map(tuple, self.board))\n",
        "        pq = [(0, start_state)]\n",
        "        g_score = {start_state: 0}\n",
        "        came_from = {}\n",
        "\n",
        "        while pq:\n",
        "            _, current = heapq.heappop(pq)\n",
        "\n",
        "            if current == tuple(map(tuple, self.goal)):\n",
        "                return g_score[current]\n",
        "\n",
        "            for neighbor in self.get_neighbors(current):\n",
        "                tentative_g = g_score[current] + 1\n",
        "                if neighbor not in g_score or tentative_g < g_score[neighbor]:\n",
        "                    g_score[neighbor] = tentative_g\n",
        "                    f_score = tentative_g + heuristic(neighbor)\n",
        "                    heapq.heappush(pq, (f_score, neighbor))\n",
        "                    came_from[neighbor] = current\n",
        "\n",
        "        return -1  # No solution found\n",
        "\n",
        "\n",
        "# 測試\n",
        "start_board = [[5, 1, 3, 4], [2, 0, 7, 8], [9, 6, 11, 12], [13, 10, 14, 15]]\n",
        "goal_board = [[1, 2, 3, 4], [5, 6, 7, 8], [9, 10, 11, 12], [13, 14, 15, 0]]\n",
        "\n",
        "puzzle = Puzzle(start_board, goal_board)\n",
        "\n",
        "# 測試 h1\n",
        "start_time = time.time()\n",
        "steps_h1 = puzzle.solve_a_star(puzzle.heuristic_h1)\n",
        "end_time = time.time()\n",
        "print(f\"h1 (錯位數) 解步驟數: {steps_h1}, 耗時: {end_time - start_time:.4f} 秒\")\n",
        "\n",
        "# 測試 h2\n",
        "start_time = time.time()\n",
        "steps_h2 = puzzle.solve_a_star(puzzle.heuristic_h2)\n",
        "end_time = time.time()\n",
        "print(f\"h2 (曼哈頓距離) 解步驟數: {steps_h2}, 耗時: {end_time - start_time:.4f} 秒\")\n"
      ]
    }
  ],
  "metadata": {
    "colab": {
      "provenance": []
    },
    "kernelspec": {
      "display_name": "Python 3",
      "name": "python3"
    },
    "language_info": {
      "name": "python"
    }
  },
  "nbformat": 4,
  "nbformat_minor": 0
}
